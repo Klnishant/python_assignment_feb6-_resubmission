{
 "cells": [
  {
   "cell_type": "code",
   "execution_count": 8,
   "id": "3b6fa5e2-a54e-4164-ba99-76fb658419d6",
   "metadata": {},
   "outputs": [
    {
     "name": "stdout",
     "output_type": "stream",
     "text": [
      "[1, 2, 3, 4, 44, 55, 66, 34, 56, 78, 89, 34, 1, 2, 3, 1, 34, 55, 67, 78, 89, 4, 45, 22, 61, 34, 56]\n"
     ]
    },
    {
     "data": {
      "text/plain": [
       "4134711838987085478833841242112000"
      ]
     },
     "execution_count": 8,
     "metadata": {},
     "output_type": "execute_result"
    }
   ],
   "source": [
    "import functools\n",
    "def product_of_list(l) :\n",
    "    l1 = []\n",
    "    def append_flat(l,l1):\n",
    "        for i in l :\n",
    "            if type(i)==int or type(i)==float :\n",
    "                l1.append(i)\n",
    "            elif type(i)==list or type(i)==tuple :\n",
    "                append_flat(i,l1)\n",
    "            elif type(i)==set :\n",
    "                for x in i :\n",
    "                    l1.append(x)\n",
    "            elif type(i)==dict :\n",
    "                    for key,value in i.items() :\n",
    "                        if type(key) == int or type(key)==float :\n",
    "                            l1.append(key)\n",
    "                        if type(value)==int or type(value)==float :\n",
    "                            l1.append(value)\n",
    "                        if type(value)==list or type(value)==tuple :\n",
    "                            append_flat(value,l1)\n",
    "                        if type(value)==dict :\n",
    "                            append_flat(value,l1)\n",
    "        return l1\n",
    "    flat_list = append_flat(l,l1)\n",
    "    print(flat_list)\n",
    "    \n",
    "    result = functools.reduce(lambda x,y : x*y,l1)\n",
    "    return result\n",
    "    \n",
    "l=[1,2,3,4, [44,55,66, True], False, (34,56,78,89,34), {1,2,3,3,2,1}, {1:34, \"key2\": [55, 67, 78, 89], 4: (45,\n",
    "22, 61, 34)}, [56, 'data science'], 'Machine Learning']\n",
    "\n",
    "product_of_list(l)"
   ]
  },
  {
   "cell_type": "code",
   "execution_count": null,
   "id": "bf225f82-cd99-4c02-a830-f4437c8e5e2c",
   "metadata": {},
   "outputs": [],
   "source": []
  }
 ],
 "metadata": {
  "kernelspec": {
   "display_name": "Python 3 (ipykernel)",
   "language": "python",
   "name": "python3"
  },
  "language_info": {
   "codemirror_mode": {
    "name": "ipython",
    "version": 3
   },
   "file_extension": ".py",
   "mimetype": "text/x-python",
   "name": "python",
   "nbconvert_exporter": "python",
   "pygments_lexer": "ipython3",
   "version": "3.10.8"
  }
 },
 "nbformat": 4,
 "nbformat_minor": 5
}
