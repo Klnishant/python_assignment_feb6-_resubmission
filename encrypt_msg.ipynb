{
 "cells": [
  {
   "cell_type": "code",
   "execution_count": 6,
   "id": "903711c6-27af-4424-af9f-ed17d43dbbe3",
   "metadata": {},
   "outputs": [
    {
     "name": "stdout",
     "output_type": "stream",
     "text": [
      "h$vzms$sn$adbnld$z$czsz$rbhdmshrs.\n"
     ]
    }
   ],
   "source": [
    "def encrypt_message(message):\n",
    "    alphabet = \"abcdefghijklmnopqrstuvwxyz\"\n",
    "    result = \"\"\n",
    "    for char in message:\n",
    "        if char.lower() in alphabet:\n",
    "            char_index = alphabet.index(char.lower())\n",
    "            result += alphabet[(char_index + 25) % 26]\n",
    "        elif char == \" \":\n",
    "            result += \"$\"\n",
    "        else:\n",
    "            result += char\n",
    "    return result\n",
    "\n",
    "message = \"I want to become a Data Scientist.\"\n",
    "message = message.lower();\n",
    "print(encrypt_message(message))\n"
   ]
  },
  {
   "cell_type": "code",
   "execution_count": null,
   "id": "36ba927c-8896-4382-9af7-9343687abab1",
   "metadata": {},
   "outputs": [],
   "source": []
  }
 ],
 "metadata": {
  "kernelspec": {
   "display_name": "Python 3 (ipykernel)",
   "language": "python",
   "name": "python3"
  },
  "language_info": {
   "codemirror_mode": {
    "name": "ipython",
    "version": 3
   },
   "file_extension": ".py",
   "mimetype": "text/x-python",
   "name": "python",
   "nbconvert_exporter": "python",
   "pygments_lexer": "ipython3",
   "version": "3.10.8"
  }
 },
 "nbformat": 4,
 "nbformat_minor": 5
}
